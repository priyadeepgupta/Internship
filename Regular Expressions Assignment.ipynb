{
 "cells": [
  {
   "cell_type": "markdown",
   "id": "a4617f2b",
   "metadata": {},
   "source": [
    "            REGULAR EXPRESSIONS\n",
    "           "
   ]
  },
  {
   "cell_type": "code",
   "execution_count": 20,
   "id": "934d2ef7",
   "metadata": {},
   "outputs": [
    {
     "name": "stdout",
     "output_type": "stream",
     "text": [
      "Python:Exercies::PHP:Exercises\n"
     ]
    }
   ],
   "source": [
    "# 1. write a python program to replace all occurences of space, dot or comma with a colon.\n",
    "\n",
    "import re\n",
    "\n",
    "sample_text = 'Python Exercies, PHP Exercises'\n",
    "x = re.sub('[.,\\s]', ':',sample_text)\n",
    "print(x)"
   ]
  },
  {
   "cell_type": "code",
   "execution_count": null,
   "id": "d7baacc9",
   "metadata": {},
   "outputs": [],
   "source": []
  },
  {
   "cell_type": "code",
   "execution_count": null,
   "id": "61670aa5",
   "metadata": {},
   "outputs": [],
   "source": [
    "# 2. Write a python program to find all words starting with 'a or 'e' in a given string.\n",
    "\n"
   ]
  },
  {
   "cell_type": "code",
   "execution_count": 25,
   "id": "6ba51824",
   "metadata": {},
   "outputs": [
    {
     "name": "stdout",
     "output_type": "stream",
     "text": [
      "['Apples', 'and', 'are', 'eagle']\n"
     ]
    }
   ],
   "source": [
    "import re\n",
    "\n",
    "string = \"Apples, Bananas and Grapes are Fruits but eagle is a bird\"\n",
    "pattern = r'\\b[aeAE]\\w+\\b'\n",
    "result = re.findall(pattern, string)\n",
    "print(result)\n"
   ]
  },
  {
   "cell_type": "code",
   "execution_count": null,
   "id": "0875f89c",
   "metadata": {},
   "outputs": [],
   "source": []
  },
  {
   "cell_type": "code",
   "execution_count": 39,
   "id": "f47f9cfd",
   "metadata": {},
   "outputs": [
    {
     "name": "stdout",
     "output_type": "stream",
     "text": [
      "['There', 'only', 'apples', 'bananas', 'grapes', 'oranges', 'available', 'market']\n"
     ]
    }
   ],
   "source": [
    "# 3. create a function in python to find all words that are at least  4 characters long in a string. The use of re.compile()is compulsory.\n",
    "\n",
    "import re\n",
    "\n",
    "string = \"There are only apples, bananas, grapes and oranges are available in the market\"\n",
    "pattern = re.compile(r'\\b\\w{4,}\\b')\n",
    "words4char = pattern.findall(string)\n",
    "print(words4char)\n"
   ]
  },
  {
   "cell_type": "code",
   "execution_count": null,
   "id": "56fe77e4",
   "metadata": {},
   "outputs": [],
   "source": []
  },
  {
   "cell_type": "code",
   "execution_count": null,
   "id": "3aa6bec3",
   "metadata": {},
   "outputs": [],
   "source": []
  }
 ],
 "metadata": {
  "kernelspec": {
   "display_name": "Python 3 (ipykernel)",
   "language": "python",
   "name": "python3"
  },
  "language_info": {
   "codemirror_mode": {
    "name": "ipython",
    "version": 3
   },
   "file_extension": ".py",
   "mimetype": "text/x-python",
   "name": "python",
   "nbconvert_exporter": "python",
   "pygments_lexer": "ipython3",
   "version": "3.10.9"
  }
 },
 "nbformat": 4,
 "nbformat_minor": 5
}
