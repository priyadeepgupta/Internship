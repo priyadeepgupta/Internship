{
 "cells": [
  {
   "cell_type": "markdown",
   "id": "a4617f2b",
   "metadata": {},
   "source": [
    "            REGULAR EXPRESSIONS\n",
    "           "
   ]
  },
  {
   "cell_type": "code",
   "execution_count": 20,
   "id": "934d2ef7",
   "metadata": {},
   "outputs": [
    {
     "name": "stdout",
     "output_type": "stream",
     "text": [
      "Python:Exercies::PHP:Exercises\n"
     ]
    }
   ],
   "source": [
    "# 1. write a python program to replace all occurences of space, dot or comma with a colon.\n",
    "\n",
    "import re\n",
    "\n",
    "sample_text = 'Python Exercies, PHP Exercises'\n",
    "x = re.sub('[.,\\s]', ':',sample_text)\n",
    "print(x)"
   ]
  },
  {
   "cell_type": "code",
   "execution_count": null,
   "id": "d7baacc9",
   "metadata": {},
   "outputs": [],
   "source": []
  },
  {
   "cell_type": "code",
   "execution_count": null,
   "id": "61670aa5",
   "metadata": {},
   "outputs": [],
   "source": [
    "# 2. Write a python program to find all words starting with 'a or 'e' in a given string.\n",
    "\n"
   ]
  },
  {
   "cell_type": "code",
   "execution_count": 25,
   "id": "6ba51824",
   "metadata": {},
   "outputs": [
    {
     "name": "stdout",
     "output_type": "stream",
     "text": [
      "['Apples', 'and', 'are', 'eagle']\n"
     ]
    }
   ],
   "source": [
    "import re\n",
    "\n",
    "string = \"Apples, Bananas and Grapes are Fruits but eagle is a bird\"\n",
    "pattern = r'\\b[aeAE]\\w+\\b'\n",
    "result = re.findall(pattern, string)\n",
    "print(result)\n"
   ]
  },
  {
   "cell_type": "code",
   "execution_count": null,
   "id": "0875f89c",
   "metadata": {},
   "outputs": [],
   "source": []
  },
  {
   "cell_type": "code",
   "execution_count": 39,
   "id": "f47f9cfd",
   "metadata": {},
   "outputs": [
    {
     "name": "stdout",
     "output_type": "stream",
     "text": [
      "['There', 'only', 'apples', 'bananas', 'grapes', 'oranges', 'available', 'market']\n"
     ]
    }
   ],
   "source": [
    "# 3. create a function in python to find all words that are at least  4 characters long in a string. The use of re.compile()is compulsory.\n",
    "\n",
    "import re\n",
    "\n",
    "string = \"There are only apples, bananas, grapes and oranges are available in the market\"\n",
    "pattern = re.compile(r'\\b\\w{4,}\\b')\n",
    "words4char = pattern.findall(string)\n",
    "print(words4char)\n"
   ]
  },
  {
   "cell_type": "code",
   "execution_count": null,
   "id": "56fe77e4",
   "metadata": {},
   "outputs": [],
   "source": [
    "#4. Create a function in python to find all three, four, and five character words in a string. The use of the re.compile() method is mandatory."
   ]
  },
  {
   "cell_type": "code",
   "execution_count": 3,
   "id": "3aa6bec3",
   "metadata": {},
   "outputs": [
    {
     "name": "stdout",
     "output_type": "stream",
     "text": [
      "{'Three-Character Words': ['all', 'and'], 'Four-Character Words': ['find', 'four', 'five'], 'Five-Character Words': ['three', 'words']}\n"
     ]
    }
   ],
   "source": [
    "import re\n",
    "\n",
    "def charwords(string):\n",
    "    threecharword = re.compile(r'\\b\\w{3}\\b')\n",
    "    fourcharword = re.compile(r'\\b\\w{4}\\b')\n",
    "    fivecharword = re.compile(r'\\b\\w{5}\\b')\n",
    "\n",
    "    three_char_words = threecharword.findall(string)\n",
    "    four_char_words = fourcharword.findall(string)\n",
    "    five_char_words = fivecharword.findall(string)\n",
    "\n",
    "    return {\n",
    "        \"Three-Character Words\": three_char_words,\n",
    "        \"Four-Character Words\": four_char_words,\n",
    "        \"Five-Character Words\": five_char_words\n",
    "    }\n",
    "\n",
    "string = \"Create a function in python to find all three, four, and five character words in a string\"\n",
    "result = charwords(string)\n",
    "print(result)\n"
   ]
  },
  {
   "cell_type": "code",
   "execution_count": null,
   "id": "dcf16edb",
   "metadata": {},
   "outputs": [],
   "source": []
  },
  {
   "cell_type": "code",
   "execution_count": 4,
   "id": "bcb989b5",
   "metadata": {},
   "outputs": [
    {
     "name": "stdout",
     "output_type": "stream",
     "text": [
      "['Importance', 'Of', 'Regular', 'Expressions', 'In', 'Python']\n"
     ]
    }
   ],
   "source": [
    "#7 Write a regular expression in Python to split a string into uppercase letters.\n",
    "#Sample text: “ImportanceOfRegularExpressionsInPython”\n",
    "#Expected Output: [‘Importance’, ‘Of’, ‘Regular’, ‘Expression’, ‘In’, ‘Python’]\n",
    "\n",
    "\n",
    "import re\n",
    "\n",
    "sample_text = \"ImportanceOfRegularExpressionsInPython\"\n",
    "\n",
    "result = re.findall(r'[A-Z][a-z]*', sample_text)\n",
    "\n",
    "print(result)\n"
   ]
  },
  {
   "cell_type": "code",
   "execution_count": null,
   "id": "f4a18f01",
   "metadata": {},
   "outputs": [],
   "source": []
  },
  {
   "cell_type": "code",
   "execution_count": 5,
   "id": "b403716c",
   "metadata": {},
   "outputs": [
    {
     "name": "stdout",
     "output_type": "stream",
     "text": [
      "RegularExpression1 IsAn2 ImportantTopic3 InPython\n"
     ]
    }
   ],
   "source": [
    "#8 Create a function in python to insert spaces between words starting with numbers.\n",
    "#Sample Text: “RegularExpression1IsAn2ImportantTopic3InPython\"\n",
    "#Expected Output: RegularExpression 1IsAn 2ImportantTopic 3InPython\n",
    "\n",
    "\n",
    "import re\n",
    "\n",
    "def wordspace(text):\n",
    "    result = re.sub(r'([0-9])([A-Za-z])', r'\\1 \\2', text)\n",
    "    return result\n",
    "\n",
    "string = \"RegularExpression1IsAn2ImportantTopic3InPython\"\n",
    "\n",
    "output = wordspace(string)\n",
    "print(output)\n"
   ]
  },
  {
   "cell_type": "code",
   "execution_count": null,
   "id": "d7cb491e",
   "metadata": {},
   "outputs": [],
   "source": []
  },
  {
   "cell_type": "code",
   "execution_count": 11,
   "id": "1e8d431a",
   "metadata": {},
   "outputs": [
    {
     "name": "stdout",
     "output_type": "stream",
     "text": [
      "Regular Expression 1Is An 2Important Topic 3In Python\n"
     ]
    }
   ],
   "source": [
    "#9 Create a function in python to insert spaces between words starting with capital letters or with numbers.\n",
    "#Sample Text: “RegularExpression1IsAn2ImportantTopic3InPython\"\n",
    "#Expected Output:  RegularExpression 1 IsAn 2 ImportantTopic 3 InPython\n",
    "\n",
    "import re\n",
    "\n",
    "def wordspace(text):\n",
    "    result = re.sub(r'([a-z])([A-Z0-9])', r'\\1 \\2', text)\n",
    "    return result\n",
    "\n",
    "# Sample text\n",
    "sample_text = \"RegularExpression1IsAn2ImportantTopic3InPython\"\n",
    "\n",
    "# Insert spaces between words starting with capital letters or numbers\n",
    "output = wordspace(sample_text)\n",
    "print(output)\n"
   ]
  },
  {
   "cell_type": "code",
   "execution_count": null,
   "id": "63dbba58",
   "metadata": {},
   "outputs": [],
   "source": []
  },
  {
   "cell_type": "code",
   "execution_count": 18,
   "id": "65325510",
   "metadata": {},
   "outputs": [
    {
     "name": "stdout",
     "output_type": "stream",
     "text": [
      "Found: fox\n",
      "Found: dog\n"
     ]
    }
   ],
   "source": [
    "#15 Write a Python program to search some literals strings in a string. \n",
    "#Sample text : 'The quick brown fox jumps over the lazy dog.'\n",
    "#Searched words : 'fox', 'dog', 'horse'\n",
    "\n",
    "def searchwords(text, words_to_search):\n",
    "    found_words = []\n",
    "\n",
    "    for word in words_to_search:\n",
    "        if word in text:\n",
    "            found_words.append(word)\n",
    "\n",
    "    return found_words\n",
    "\n",
    "sampletext = 'The quick brown fox jumps over the lazy dog.'\n",
    "\n",
    "\n",
    "keywords = ['fox', 'dog', 'horse']\n",
    "\n",
    "wordsfound = searchwords(sampletext, keywords)\n",
    "\n",
    "\n",
    "for word in wordsfound:\n",
    "    print(f'Found: {word}')\n",
    "\n"
   ]
  },
  {
   "cell_type": "code",
   "execution_count": null,
   "id": "f80292f2",
   "metadata": {},
   "outputs": [],
   "source": []
  },
  {
   "cell_type": "code",
   "execution_count": 24,
   "id": "2bbd48f9",
   "metadata": {},
   "outputs": [
    {
     "name": "stdout",
     "output_type": "stream",
     "text": [
      "'fox' found at position 16 in the text.\n"
     ]
    }
   ],
   "source": [
    "#16 Write a Python program to search a literals string in a string and also find the location within the original string where the pattern occurs\n",
    "#Sample text : 'The quick brown fox jumps over the lazy dog.'\n",
    "#Searched words : 'fox'\n",
    "\n",
    "def wordlocation(text, word_to_search):\n",
    "    location = text.find(word_to_search)\n",
    "    return location\n",
    "\n",
    "sampletext = 'The quick brown fox jumps over the lazy dog.'\n",
    "\n",
    "wordsearch = 'fox'\n",
    "\n",
    "location = wordlocation(sampletext, wordsearch)\n",
    "\n",
    "print(f\"'{wordsearch}' found at position {location} in the text.\")\n"
   ]
  },
  {
   "cell_type": "code",
   "execution_count": null,
   "id": "dfb8296a",
   "metadata": {},
   "outputs": [],
   "source": []
  },
  {
   "cell_type": "code",
   "execution_count": 29,
   "id": "3dfc240d",
   "metadata": {},
   "outputs": [
    {
     "name": "stdout",
     "output_type": "stream",
     "text": [
      "'exercises' found in the text.\n"
     ]
    }
   ],
   "source": [
    "#17 Write a Python program to find the substrings within a string.\n",
    "#Sample text : 'Python exercises, PHP exercises, C# exercises'\n",
    "#Pattern : 'exercises'.\n",
    "\n",
    "sampletext = 'Python exercises, PHP exercises, C# exercises'\n",
    "\n",
    "word_to_search = 'exercises'\n",
    "\n",
    "if word_to_search in sampletext:\n",
    "    print(f\"'{word_to_search}' found in the text.\")\n",
    "else:\n",
    "    print(f\"'{word_to_search}' not found in the text.\")\n"
   ]
  },
  {
   "cell_type": "code",
   "execution_count": null,
   "id": "c3e7acfe",
   "metadata": {},
   "outputs": [],
   "source": []
  },
  {
   "cell_type": "code",
   "execution_count": 38,
   "id": "3b4806fb",
   "metadata": {},
   "outputs": [
    {
     "name": "stdout",
     "output_type": "stream",
     "text": [
      "The maximum numeric value in the text is: 950\n"
     ]
    }
   ],
   "source": [
    "#22 Write a regular expression in python program to extract maximum/largest numeric value from a string.\n",
    "\n",
    "import re\n",
    "\n",
    "sampletext = \"My marks in each semester are: 947, 896, 926, 524, 734, 950, 642\"\n",
    "\n",
    "pattern = r'\\d+'\n",
    "\n",
    "values = [int(match) for match in re.findall(pattern, sampletext)]\n",
    "\n",
    "if values:\n",
    "    maxvalue = max(values)\n",
    "    print(f\"The maximum numeric value in the text is: {maxvalue}\")\n",
    "\n"
   ]
  },
  {
   "cell_type": "code",
   "execution_count": null,
   "id": "e9bb2c77",
   "metadata": {},
   "outputs": [],
   "source": []
  },
  {
   "cell_type": "code",
   "execution_count": 44,
   "id": "4f8bc92a",
   "metadata": {},
   "outputs": [
    {
     "name": "stdout",
     "output_type": "stream",
     "text": [
      "Regular Expression Is An Important Topic In Python\n"
     ]
    }
   ],
   "source": [
    "#23 Create a function in python to insert spaces between words starting with capital letters.\n",
    "#Sample Text: “RegularExpressionIsAnImportantTopicInPython\"\n",
    "#Expected Output: Regular Expression Is An Important Topic In Python\n",
    "\n",
    "import re\n",
    "\n",
    "def words(text):\n",
    "    \n",
    "    result = re.sub(r'([a-z])([A-Z])', r'\\1 \\2', text)\n",
    "    result1 = re.sub(r'^([A-Z])', r' \\1', result)\n",
    "    \n",
    "    return result1.strip()\n",
    "\n",
    "\n",
    "sampletext = \"RegularExpressionIsAnImportantTopicInPython\"\n",
    "\n",
    "output = words(sampletext)\n",
    "print(output)\n",
    "\n"
   ]
  },
  {
   "cell_type": "code",
   "execution_count": 49,
   "id": "643267df",
   "metadata": {},
   "outputs": [
    {
     "name": "stdout",
     "output_type": "stream",
     "text": [
      "Hello hello world\n"
     ]
    }
   ],
   "source": [
    "#25 Write a Python program to remove continuous duplicate words from Sentence using Regular Expression.\n",
    "#Sample Text: \"Hello hello world world\"\n",
    "#Expected Output: Hello hello world\n",
    "\n",
    "\n",
    "import re\n",
    "\n",
    "sampletext = \"Hello hello world world\"\n",
    "\n",
    "\n",
    "pattern = r'\\b(\\w+)\\s+\\1\\b'\n",
    "\n",
    "newtext = re.sub(pattern, r'\\1', sampletext)\n",
    "\n",
    "print(newtext)\n"
   ]
  },
  {
   "cell_type": "code",
   "execution_count": null,
   "id": "24d2dbb1",
   "metadata": {},
   "outputs": [],
   "source": []
  },
  {
   "cell_type": "code",
   "execution_count": 56,
   "id": "95892ffc",
   "metadata": {},
   "outputs": [
    {
     "name": "stdout",
     "output_type": "stream",
     "text": [
      " following example creates  ArrayList  a capacity   elements. 4 elements   added   ArrayList   ArrayList  trimmed accordingly.\n"
     ]
    }
   ],
   "source": [
    "#30 Create a function in python to remove all words from a string of length between 2 and 4.\n",
    "#The use of the re.compile() method is mandatory.\n",
    "#Sample Text: \"The following example creates an ArrayList with a capacity of 50 elements. 4 elements are then added to the ArrayList and the ArrayList is trimmed accordingly.\"\n",
    "#Expected Output:  following example creates ArrayList a capacity elements. 4 elements added ArrayList ArrayList trimmed accordingly.\n",
    "\n",
    "import re\n",
    "\n",
    "def wordsextract(text):\n",
    "    pattern = re.compile(r'\\b\\w{2,4}\\b')\n",
    "    \n",
    "    newtext = pattern.sub('', text)\n",
    "    \n",
    "    return newtext\n",
    "\n",
    "sampletext = \"The following example creates an ArrayList with a capacity of 50 elements. 4 elements are then added to the ArrayList and the ArrayList is trimmed accordingly.\"\n",
    "\n",
    "newtext = wordsextract(sampletext)\n",
    "\n",
    "print(newtext)\n"
   ]
  },
  {
   "cell_type": "code",
   "execution_count": null,
   "id": "589e8e85",
   "metadata": {},
   "outputs": [],
   "source": []
  }
 ],
 "metadata": {
  "kernelspec": {
   "display_name": "Python 3 (ipykernel)",
   "language": "python",
   "name": "python3"
  },
  "language_info": {
   "codemirror_mode": {
    "name": "ipython",
    "version": 3
   },
   "file_extension": ".py",
   "mimetype": "text/x-python",
   "name": "python",
   "nbconvert_exporter": "python",
   "pygments_lexer": "ipython3",
   "version": "3.10.9"
  }
 },
 "nbformat": 4,
 "nbformat_minor": 5
}
