{
 "cells": [
  {
   "cell_type": "markdown",
   "id": "75fb5c26",
   "metadata": {},
   "source": [
    "#              WEB SCRAPING ASSIGNMENT -2"
   ]
  },
  {
   "cell_type": "code",
   "execution_count": null,
   "id": "67dbad08",
   "metadata": {},
   "outputs": [],
   "source": []
  },
  {
   "cell_type": "code",
   "execution_count": 14,
   "id": "2d79791d",
   "metadata": {},
   "outputs": [],
   "source": [
    "#Q4: Scrape data of first 100 sunglasses listings on flipkart.com. You have to scrape four attributes:\n",
    "#6. Brand\n",
    "#7. ProductDescription\n",
    "#8. Price\n",
    "#The attributes which you have to scrape is ticked marked in the below image."
   ]
  },
  {
   "cell_type": "code",
   "execution_count": 79,
   "id": "cb44f2c9",
   "metadata": {},
   "outputs": [
    {
     "name": "stdout",
     "output_type": "stream",
     "text": [
      "Requirement already satisfied: selenium in c:\\users\\sanja\\anaconda3\\lib\\site-packages (4.15.1)\n",
      "Requirement already satisfied: certifi>=2021.10.8 in c:\\users\\sanja\\anaconda3\\lib\\site-packages (from selenium) (2022.12.7)\n",
      "Requirement already satisfied: trio-websocket~=0.9 in c:\\users\\sanja\\anaconda3\\lib\\site-packages (from selenium) (0.11.1)\n",
      "Requirement already satisfied: trio~=0.17 in c:\\users\\sanja\\anaconda3\\lib\\site-packages (from selenium) (0.23.0)\n",
      "Requirement already satisfied: urllib3[socks]<3,>=1.26 in c:\\users\\sanja\\anaconda3\\lib\\site-packages (from selenium) (1.26.14)\n",
      "Requirement already satisfied: cffi>=1.14 in c:\\users\\sanja\\anaconda3\\lib\\site-packages (from trio~=0.17->selenium) (1.15.1)\n",
      "Requirement already satisfied: exceptiongroup>=1.0.0rc9 in c:\\users\\sanja\\anaconda3\\lib\\site-packages (from trio~=0.17->selenium) (1.1.3)\n",
      "Requirement already satisfied: idna in c:\\users\\sanja\\anaconda3\\lib\\site-packages (from trio~=0.17->selenium) (3.4)\n",
      "Requirement already satisfied: outcome in c:\\users\\sanja\\anaconda3\\lib\\site-packages (from trio~=0.17->selenium) (1.3.0.post0)\n",
      "Requirement already satisfied: sortedcontainers in c:\\users\\sanja\\anaconda3\\lib\\site-packages (from trio~=0.17->selenium) (2.4.0)\n",
      "Requirement already satisfied: sniffio>=1.3.0 in c:\\users\\sanja\\anaconda3\\lib\\site-packages (from trio~=0.17->selenium) (1.3.0)\n",
      "Requirement already satisfied: attrs>=20.1.0 in c:\\users\\sanja\\anaconda3\\lib\\site-packages (from trio~=0.17->selenium) (22.1.0)\n",
      "Requirement already satisfied: wsproto>=0.14 in c:\\users\\sanja\\anaconda3\\lib\\site-packages (from trio-websocket~=0.9->selenium) (1.2.0)\n",
      "Requirement already satisfied: PySocks!=1.5.7,<2.0,>=1.5.6 in c:\\users\\sanja\\anaconda3\\lib\\site-packages (from urllib3[socks]<3,>=1.26->selenium) (1.7.1)\n",
      "Requirement already satisfied: pycparser in c:\\users\\sanja\\anaconda3\\lib\\site-packages (from cffi>=1.14->trio~=0.17->selenium) (2.21)\n",
      "Requirement already satisfied: h11<1,>=0.9.0 in c:\\users\\sanja\\anaconda3\\lib\\site-packages (from wsproto>=0.14->trio-websocket~=0.9->selenium) (0.14.0)\n"
     ]
    }
   ],
   "source": [
    "!pip install selenium"
   ]
  },
  {
   "cell_type": "code",
   "execution_count": 172,
   "id": "51515357",
   "metadata": {},
   "outputs": [
    {
     "name": "stdout",
     "output_type": "stream",
     "text": [
      "120 120 120\n"
     ]
    },
    {
     "data": {
      "text/html": [
       "<div>\n",
       "<style scoped>\n",
       "    .dataframe tbody tr th:only-of-type {\n",
       "        vertical-align: middle;\n",
       "    }\n",
       "\n",
       "    .dataframe tbody tr th {\n",
       "        vertical-align: top;\n",
       "    }\n",
       "\n",
       "    .dataframe thead th {\n",
       "        text-align: right;\n",
       "    }\n",
       "</style>\n",
       "<table border=\"1\" class=\"dataframe\">\n",
       "  <thead>\n",
       "    <tr style=\"text-align: right;\">\n",
       "      <th></th>\n",
       "      <th>brands</th>\n",
       "      <th>product_desc</th>\n",
       "      <th>price</th>\n",
       "    </tr>\n",
       "  </thead>\n",
       "  <tbody>\n",
       "    <tr>\n",
       "      <th>0</th>\n",
       "      <td>iCopertina</td>\n",
       "      <td>UV Protection Retro Square Sunglasses (Free Size)</td>\n",
       "      <td>₹209</td>\n",
       "    </tr>\n",
       "    <tr>\n",
       "      <th>1</th>\n",
       "      <td>VINCENT CHASE</td>\n",
       "      <td>Polarized, UV Protection Wayfarer Sunglasses (52)</td>\n",
       "      <td>₹499</td>\n",
       "    </tr>\n",
       "    <tr>\n",
       "      <th>2</th>\n",
       "      <td>Fastrack</td>\n",
       "      <td>UV Protection Wayfarer Sunglasses (58)</td>\n",
       "      <td>₹549</td>\n",
       "    </tr>\n",
       "    <tr>\n",
       "      <th>3</th>\n",
       "      <td>SRPM</td>\n",
       "      <td>UV Protection Wayfarer Sunglasses (50)</td>\n",
       "      <td>₹149</td>\n",
       "    </tr>\n",
       "    <tr>\n",
       "      <th>4</th>\n",
       "      <td>iCopertina</td>\n",
       "      <td>UV Protection Rectangular Sunglasses (Free Size)</td>\n",
       "      <td>₹199</td>\n",
       "    </tr>\n",
       "    <tr>\n",
       "      <th>...</th>\n",
       "      <td>...</td>\n",
       "      <td>...</td>\n",
       "      <td>...</td>\n",
       "    </tr>\n",
       "    <tr>\n",
       "      <th>115</th>\n",
       "      <td>VINCENT CHASE</td>\n",
       "      <td>UV Protection Aviator Sunglasses (61)</td>\n",
       "      <td>₹871</td>\n",
       "    </tr>\n",
       "    <tr>\n",
       "      <th>116</th>\n",
       "      <td>ROYAL SON</td>\n",
       "      <td>UV Protection Retro Square Sunglasses (60)</td>\n",
       "      <td>₹799</td>\n",
       "    </tr>\n",
       "    <tr>\n",
       "      <th>117</th>\n",
       "      <td>VINCENT CHASE</td>\n",
       "      <td>by Lenskart Polarized, UV Protection Rectangul...</td>\n",
       "      <td>₹799</td>\n",
       "    </tr>\n",
       "    <tr>\n",
       "      <th>118</th>\n",
       "      <td>ROYAL SON</td>\n",
       "      <td>Polarized, UV Protection Rectangular Sunglasse...</td>\n",
       "      <td>₹629</td>\n",
       "    </tr>\n",
       "    <tr>\n",
       "      <th>119</th>\n",
       "      <td>john jacobs</td>\n",
       "      <td>UV Protection Rectangular Sunglasses (56)</td>\n",
       "      <td>₹1,299</td>\n",
       "    </tr>\n",
       "  </tbody>\n",
       "</table>\n",
       "<p>120 rows × 3 columns</p>\n",
       "</div>"
      ],
      "text/plain": [
       "            brands                                       product_desc   price\n",
       "0       iCopertina  UV Protection Retro Square Sunglasses (Free Size)    ₹209\n",
       "1    VINCENT CHASE  Polarized, UV Protection Wayfarer Sunglasses (52)    ₹499\n",
       "2         Fastrack             UV Protection Wayfarer Sunglasses (58)    ₹549\n",
       "3             SRPM             UV Protection Wayfarer Sunglasses (50)    ₹149\n",
       "4       iCopertina   UV Protection Rectangular Sunglasses (Free Size)    ₹199\n",
       "..             ...                                                ...     ...\n",
       "115  VINCENT CHASE              UV Protection Aviator Sunglasses (61)    ₹871\n",
       "116      ROYAL SON         UV Protection Retro Square Sunglasses (60)    ₹799\n",
       "117  VINCENT CHASE  by Lenskart Polarized, UV Protection Rectangul...    ₹799\n",
       "118      ROYAL SON  Polarized, UV Protection Rectangular Sunglasse...    ₹629\n",
       "119    john jacobs          UV Protection Rectangular Sunglasses (56)  ₹1,299\n",
       "\n",
       "[120 rows x 3 columns]"
      ]
     },
     "execution_count": 172,
     "metadata": {},
     "output_type": "execute_result"
    }
   ],
   "source": [
    "import selenium\n",
    "from selenium import webdriver\n",
    "import pandas as pd\n",
    "from selenium.webdriver.common.by import By\n",
    "import warnings\n",
    "\n",
    "warnings.filterwarnings(\"ignore\")\n",
    "import time\n",
    "driver=webdriver.Chrome()\n",
    "driver.get(\"https://www.flipkart.com/\")\n",
    "closepopup = driver.find_element(By.XPATH, '//div[@class=\"JFPqaw\"]/span')\n",
    "closepopup.click()            \n",
    "\n",
    "brands_field = driver.find_element(By.CLASS_NAME,\"Pke_EE\")\n",
    "brands_field.send_keys(\"sunglasses\")\n",
    "butclic = driver.find_element(By.CLASS_NAME, \"_2iLD__\")\n",
    "butclic.click()\n",
    "\n",
    "#WebScrapping Section\n",
    "\n",
    "brands = []\n",
    "prod_desc = []\n",
    "price = []\n",
    "\n",
    "start=0\n",
    "end=3\n",
    "for page in range(start,end):\n",
    "    brands_title = driver.find_elements(By.CLASS_NAME,\"_2WkVRV\")\n",
    "    for i in brands_title:\n",
    "        brand = i.text\n",
    "        brands.append(brand)\n",
    "\n",
    "\n",
    "#pdesc = driver.find_elements(By.CLASS_NAME,\"IRpwTa\")\n",
    "    pdesc = driver.find_elements(By.XPATH,'//div[@class=\"_2B099V\"]/a[1]')\n",
    "    for i in pdesc:\n",
    "        desc = i.text\n",
    "        prod_desc.append(desc)\n",
    "    #print(prod_desc)\n",
    "\n",
    "#costs = driver.find_elements(By.CLASS_NAME, \"_30jeq3\")\n",
    "    costs = driver.find_elements(By.XPATH,'//div[@class=\"_30jeq3\"]')\n",
    "    for p in costs:\n",
    "        pri = p.text\n",
    "        price.append(pri)\n",
    "    if len(brands) == 100:\n",
    "        break\n",
    "    next_button = driver.find_element(By.XPATH,'/html/body/div/div/div[3]/div[1]/div[2]/div[12]/div/div/nav/a[11]')\n",
    "    next_button.click()\n",
    "    time.sleep(3)\n",
    "    \n",
    "#print(price)\n",
    "\n",
    "print(len(brands), len(prod_desc), len(price))\n",
    "\n",
    "import pandas as pd\n",
    "df = pd.DataFrame({'brands':brands, 'product_desc':prod_desc, 'price':price})\n",
    "df\n",
    "\n"
   ]
  },
  {
   "cell_type": "code",
   "execution_count": null,
   "id": "8ba5b0df",
   "metadata": {},
   "outputs": [],
   "source": []
  },
  {
   "cell_type": "code",
   "execution_count": null,
   "id": "4ceae9dc",
   "metadata": {},
   "outputs": [],
   "source": [
    "#Q1"
   ]
  },
  {
   "cell_type": "code",
   "execution_count": 192,
   "id": "3975520d",
   "metadata": {},
   "outputs": [],
   "source": [
    "import selenium\n",
    "from selenium import webdriver\n",
    "import pandas as pd\n",
    "from selenium.webdriver.common.by import By\n",
    "import warnings\n",
    "\n",
    "warnings.filterwarnings(\"ignore\")\n",
    "import time\n",
    "driver=webdriver.Chrome()\n",
    "driver.get(\"https://www.shine.com/\")\n",
    "time.sleep(11)\n",
    "closepopup = driver.find_element(By.XPATH,'//div[@class=\"modal_modalWrapper__DZCQo \"]/button')\n",
    "closepopup.click()"
   ]
  },
  {
   "cell_type": "code",
   "execution_count": 196,
   "id": "387101c5",
   "metadata": {},
   "outputs": [
    {
     "ename": "ElementNotInteractableException",
     "evalue": "Message: element not interactable\n  (Session info: chrome=119.0.6045.106)\nStacktrace:\n\tGetHandleVerifier [0x00007FF6A02982B2+55298]\n\t(No symbol) [0x00007FF6A0205E02]\n\t(No symbol) [0x00007FF6A00C045D]\n\t(No symbol) [0x00007FF6A0102B4C]\n\t(No symbol) [0x00007FF6A00F87BF]\n\t(No symbol) [0x00007FF6A01220AA]\n\t(No symbol) [0x00007FF6A00F80CF]\n\t(No symbol) [0x00007FF6A01222C0]\n\t(No symbol) [0x00007FF6A013AAA4]\n\t(No symbol) [0x00007FF6A0121E83]\n\t(No symbol) [0x00007FF6A00F670A]\n\t(No symbol) [0x00007FF6A00F7964]\n\tGetHandleVerifier [0x00007FF6A0610AAB+3694587]\n\tGetHandleVerifier [0x00007FF6A066728E+4048862]\n\tGetHandleVerifier [0x00007FF6A065F173+4015811]\n\tGetHandleVerifier [0x00007FF6A03347D6+695590]\n\t(No symbol) [0x00007FF6A0210CE8]\n\t(No symbol) [0x00007FF6A020CF34]\n\t(No symbol) [0x00007FF6A020D062]\n\t(No symbol) [0x00007FF6A01FD3A3]\n\tBaseThreadInitThunk [0x00007FFA60A3257D+29]\n\tRtlUserThreadStart [0x00007FFA61C0AA58+40]\n",
     "output_type": "error",
     "traceback": [
      "\u001b[1;31m---------------------------------------------------------------------------\u001b[0m",
      "\u001b[1;31mElementNotInteractableException\u001b[0m           Traceback (most recent call last)",
      "Cell \u001b[1;32mIn[196], line 6\u001b[0m\n\u001b[0;32m      4\u001b[0m search \u001b[38;5;241m=\u001b[39m driver\u001b[38;5;241m.\u001b[39mfind_element(By\u001b[38;5;241m.\u001b[39mCLASS_NAME, \u001b[38;5;124m\"\u001b[39m\u001b[38;5;124msearchBar\u001b[39m\u001b[38;5;124m\"\u001b[39m)\n\u001b[0;32m      5\u001b[0m search_input \u001b[38;5;241m=\u001b[39m search\u001b[38;5;241m.\u001b[39mfind_element(By\u001b[38;5;241m.\u001b[39mCLASS_NAME, \u001b[38;5;124m\"\u001b[39m\u001b[38;5;124msearchBarInput\u001b[39m\u001b[38;5;124m\"\u001b[39m)\n\u001b[1;32m----> 6\u001b[0m \u001b[43msearch_input\u001b[49m\u001b[38;5;241;43m.\u001b[39;49m\u001b[43mclick\u001b[49m\u001b[43m(\u001b[49m\u001b[43m)\u001b[49m\n",
      "File \u001b[1;32m~\\anaconda3\\lib\\site-packages\\selenium\\webdriver\\remote\\webelement.py:93\u001b[0m, in \u001b[0;36mWebElement.click\u001b[1;34m(self)\u001b[0m\n\u001b[0;32m     91\u001b[0m \u001b[38;5;28;01mdef\u001b[39;00m \u001b[38;5;21mclick\u001b[39m(\u001b[38;5;28mself\u001b[39m) \u001b[38;5;241m-\u001b[39m\u001b[38;5;241m>\u001b[39m \u001b[38;5;28;01mNone\u001b[39;00m:\n\u001b[0;32m     92\u001b[0m     \u001b[38;5;124;03m\"\"\"Clicks the element.\"\"\"\u001b[39;00m\n\u001b[1;32m---> 93\u001b[0m     \u001b[38;5;28;43mself\u001b[39;49m\u001b[38;5;241;43m.\u001b[39;49m\u001b[43m_execute\u001b[49m\u001b[43m(\u001b[49m\u001b[43mCommand\u001b[49m\u001b[38;5;241;43m.\u001b[39;49m\u001b[43mCLICK_ELEMENT\u001b[49m\u001b[43m)\u001b[49m\n",
      "File \u001b[1;32m~\\anaconda3\\lib\\site-packages\\selenium\\webdriver\\remote\\webelement.py:394\u001b[0m, in \u001b[0;36mWebElement._execute\u001b[1;34m(self, command, params)\u001b[0m\n\u001b[0;32m    392\u001b[0m     params \u001b[38;5;241m=\u001b[39m {}\n\u001b[0;32m    393\u001b[0m params[\u001b[38;5;124m\"\u001b[39m\u001b[38;5;124mid\u001b[39m\u001b[38;5;124m\"\u001b[39m] \u001b[38;5;241m=\u001b[39m \u001b[38;5;28mself\u001b[39m\u001b[38;5;241m.\u001b[39m_id\n\u001b[1;32m--> 394\u001b[0m \u001b[38;5;28;01mreturn\u001b[39;00m \u001b[38;5;28;43mself\u001b[39;49m\u001b[38;5;241;43m.\u001b[39;49m\u001b[43m_parent\u001b[49m\u001b[38;5;241;43m.\u001b[39;49m\u001b[43mexecute\u001b[49m\u001b[43m(\u001b[49m\u001b[43mcommand\u001b[49m\u001b[43m,\u001b[49m\u001b[43m \u001b[49m\u001b[43mparams\u001b[49m\u001b[43m)\u001b[49m\n",
      "File \u001b[1;32m~\\anaconda3\\lib\\site-packages\\selenium\\webdriver\\remote\\webdriver.py:346\u001b[0m, in \u001b[0;36mWebDriver.execute\u001b[1;34m(self, driver_command, params)\u001b[0m\n\u001b[0;32m    344\u001b[0m response \u001b[38;5;241m=\u001b[39m \u001b[38;5;28mself\u001b[39m\u001b[38;5;241m.\u001b[39mcommand_executor\u001b[38;5;241m.\u001b[39mexecute(driver_command, params)\n\u001b[0;32m    345\u001b[0m \u001b[38;5;28;01mif\u001b[39;00m response:\n\u001b[1;32m--> 346\u001b[0m     \u001b[38;5;28;43mself\u001b[39;49m\u001b[38;5;241;43m.\u001b[39;49m\u001b[43merror_handler\u001b[49m\u001b[38;5;241;43m.\u001b[39;49m\u001b[43mcheck_response\u001b[49m\u001b[43m(\u001b[49m\u001b[43mresponse\u001b[49m\u001b[43m)\u001b[49m\n\u001b[0;32m    347\u001b[0m     response[\u001b[38;5;124m\"\u001b[39m\u001b[38;5;124mvalue\u001b[39m\u001b[38;5;124m\"\u001b[39m] \u001b[38;5;241m=\u001b[39m \u001b[38;5;28mself\u001b[39m\u001b[38;5;241m.\u001b[39m_unwrap_value(response\u001b[38;5;241m.\u001b[39mget(\u001b[38;5;124m\"\u001b[39m\u001b[38;5;124mvalue\u001b[39m\u001b[38;5;124m\"\u001b[39m, \u001b[38;5;28;01mNone\u001b[39;00m))\n\u001b[0;32m    348\u001b[0m     \u001b[38;5;28;01mreturn\u001b[39;00m response\n",
      "File \u001b[1;32m~\\anaconda3\\lib\\site-packages\\selenium\\webdriver\\remote\\errorhandler.py:229\u001b[0m, in \u001b[0;36mErrorHandler.check_response\u001b[1;34m(self, response)\u001b[0m\n\u001b[0;32m    227\u001b[0m         alert_text \u001b[38;5;241m=\u001b[39m value[\u001b[38;5;124m\"\u001b[39m\u001b[38;5;124malert\u001b[39m\u001b[38;5;124m\"\u001b[39m]\u001b[38;5;241m.\u001b[39mget(\u001b[38;5;124m\"\u001b[39m\u001b[38;5;124mtext\u001b[39m\u001b[38;5;124m\"\u001b[39m)\n\u001b[0;32m    228\u001b[0m     \u001b[38;5;28;01mraise\u001b[39;00m exception_class(message, screen, stacktrace, alert_text)  \u001b[38;5;66;03m# type: ignore[call-arg]  # mypy is not smart enough here\u001b[39;00m\n\u001b[1;32m--> 229\u001b[0m \u001b[38;5;28;01mraise\u001b[39;00m exception_class(message, screen, stacktrace)\n",
      "\u001b[1;31mElementNotInteractableException\u001b[0m: Message: element not interactable\n  (Session info: chrome=119.0.6045.106)\nStacktrace:\n\tGetHandleVerifier [0x00007FF6A02982B2+55298]\n\t(No symbol) [0x00007FF6A0205E02]\n\t(No symbol) [0x00007FF6A00C045D]\n\t(No symbol) [0x00007FF6A0102B4C]\n\t(No symbol) [0x00007FF6A00F87BF]\n\t(No symbol) [0x00007FF6A01220AA]\n\t(No symbol) [0x00007FF6A00F80CF]\n\t(No symbol) [0x00007FF6A01222C0]\n\t(No symbol) [0x00007FF6A013AAA4]\n\t(No symbol) [0x00007FF6A0121E83]\n\t(No symbol) [0x00007FF6A00F670A]\n\t(No symbol) [0x00007FF6A00F7964]\n\tGetHandleVerifier [0x00007FF6A0610AAB+3694587]\n\tGetHandleVerifier [0x00007FF6A066728E+4048862]\n\tGetHandleVerifier [0x00007FF6A065F173+4015811]\n\tGetHandleVerifier [0x00007FF6A03347D6+695590]\n\t(No symbol) [0x00007FF6A0210CE8]\n\t(No symbol) [0x00007FF6A020CF34]\n\t(No symbol) [0x00007FF6A020D062]\n\t(No symbol) [0x00007FF6A01FD3A3]\n\tBaseThreadInitThunk [0x00007FFA60A3257D+29]\n\tRtlUserThreadStart [0x00007FFA61C0AA58+40]\n"
     ]
    }
   ],
   "source": [
    "#brands_field = driver.find_element(By.CLASS_NAME,\"Pke_EE\")\n",
    "#brands_field.send_keys(\"sunglasses\")\n",
    "\n",
    "search = driver.find_element(By.CLASS_NAME, \"searchBar\")\n",
    "search_input = search.find_element(By.CLASS_NAME, \"searchBarInput\")\n",
    "search_input.click()\n"
   ]
  },
  {
   "cell_type": "code",
   "execution_count": null,
   "id": "3eec2909",
   "metadata": {},
   "outputs": [],
   "source": []
  }
 ],
 "metadata": {
  "kernelspec": {
   "display_name": "Python 3 (ipykernel)",
   "language": "python",
   "name": "python3"
  },
  "language_info": {
   "codemirror_mode": {
    "name": "ipython",
    "version": 3
   },
   "file_extension": ".py",
   "mimetype": "text/x-python",
   "name": "python",
   "nbconvert_exporter": "python",
   "pygments_lexer": "ipython3",
   "version": "3.10.9"
  }
 },
 "nbformat": 4,
 "nbformat_minor": 5
}
